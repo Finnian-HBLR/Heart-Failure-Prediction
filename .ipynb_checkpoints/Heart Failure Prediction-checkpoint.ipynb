{
 "cells": [
  {
   "cell_type": "markdown",
   "id": "7bd57584",
   "metadata": {},
   "source": [
    "# 1. Research Question \n",
    "\n",
    "What question am I awnswering\n",
    "\n",
    "Base categories, dummy variables."
   ]
  },
  {
   "cell_type": "code",
   "execution_count": 12,
   "id": "98d76fe3",
   "metadata": {},
   "outputs": [],
   "source": [
    "# Python Project Template\n",
    "# 1. Prepare Problem\n",
    "# a) Load libraries (pandas, matplotlib, sklearn)\n",
    "# b) Load dataset (read_csv)\n",
    "# 2. Summarize Data\n",
    "# a) Summarize Dataset (Dimension, Peek, Statistical summary)\n",
    "# b) Descriptive statistics (mean and distribution)\n",
    "# c) Data visualizations (Univariate and Multivariate plots)\n",
    "# 3. Prepare Data\n",
    "# a) Data Cleaning (missing values)\n",
    "# b) Feature Selection (Features to choose)\n",
    "# c) Data Transforms (standardisation)\n",
    "# 4. Evaluate Algorithms\n",
    "# a) Split-out validation dataset (training vs. testing data)\n",
    "# b) Test options and evaluation metric (sum of squared errors for regression or accuarcy for classification)\n",
    "# c) Spot Check Algorithms (test different models)\n",
    "# d) Compare Algorithms (select best model)\n",
    "# 5. Improve Accuracy\n",
    "# a) Algorithm Tuning (tune hyperparameters)\n",
    "# b) Ensembles (combine different models)\n",
    "# 6. Finalize Model\n",
    "# a) Predictions on validation dataset (final predictions)\n",
    "# b) Create standalone model on entire training dataset (complete final model)\n",
    "# c) Save model for later use (store the final model)\n"
   ]
  },
  {
   "cell_type": "markdown",
   "id": "6ec569a6",
   "metadata": {},
   "source": [
    "# What biological variables have an effect on a heart failure diagnosis\n"
   ]
  },
  {
   "cell_type": "markdown",
   "id": "123c1210",
   "metadata": {},
   "source": [
    "## Loading libraries"
   ]
  },
  {
   "cell_type": "code",
   "execution_count": 13,
   "id": "e87fc88e",
   "metadata": {},
   "outputs": [],
   "source": [
    "# Loading libraries\n",
    "# Data imports\n",
    "import pandas as pd\n",
    "import numpy as np\n",
    "import os\n",
    "import pandas as pd\n",
    "import numpy as np\n",
    "# Cross Validation Classification Report\n",
    "import matplotlib.pyplot as plt\n",
    "import pandas as pd\n",
    "import numpy as np\n",
    "from sklearn.model_selection import KFold\n",
    "from sklearn.model_selection import cross_val_score\n",
    "from sklearn.linear_model import LinearRegression\n",
    "from sklearn.metrics import classification_report\n",
    "# Logistic regression\n",
    "from sklearn.linear_model import LogisticRegression\n",
    "from sklearn.model_selection import train_test_split\n",
    "# KNN Classification\n",
    "import matplotlib.pyplot as plt\n",
    "import pandas as pd\n",
    "import numpy as np\n",
    "from sklearn.model_selection import KFold\n",
    "from sklearn.model_selection import cross_val_score\n",
    "from sklearn.neighbors import KNeighborsClassifier\n",
    "# Stats model\n",
    "import statsmodels.api as sm\n",
    "# CART Classification - Cassification trees\\\n",
    "import matplotlib.pyplot as plt\n",
    "import pandas as pd\n",
    "import numpy as np\n",
    "from sklearn.model_selection import KFold\n",
    "from sklearn.model_selection import cross_val_score\n",
    "from sklearn.tree import DecisionTreeClassifier\n",
    "import sklearn as sk"
   ]
  },
  {
   "cell_type": "markdown",
   "id": "dc384f13",
   "metadata": {},
   "source": [
    "## Loading dataset\n",
    "\n",
    "The dataset used in this analysis has been sourced from [Kaggle Heart Failure Prediction Dataset.](https://www.kaggle.com/fedesoriano/heart-failure-prediction)\n",
    "\n",
    "fedesoriano. (September 2021). Heart Failure Prediction Dataset. Retrieved 6/11/2021 from [https://www.kaggle.com/fedesoriano/heart-failure-prediction.](https://www.kaggle.com/fedesoriano/heart-failure-prediction)\n",
    "\n",
    "Data discussion"
   ]
  },
  {
   "cell_type": "code",
   "execution_count": 27,
   "id": "10a795f0",
   "metadata": {},
   "outputs": [
    {
     "name": "stdout",
     "output_type": "stream",
     "text": [
      "Searching for file in /home/alex/Desktop/Heart Failure Prediction\n"
     ]
    }
   ],
   "source": [
    "print(\"Searching for file in\", os.getcwd())\n",
    "#Define data source\n",
    "df = pd.read_csv(\"heart_failure_dataset.csv\")"
   ]
  },
  {
   "cell_type": "markdown",
   "id": "853427d7",
   "metadata": {},
   "source": [
    "## Data Summary\n",
    "\n",
    "Below is the data collumns for Age,\tSex, ChestPainType, RestingBP, Cholesterol, FastingBS, RestingECG, MaxHR, ExerciseAngina, Oldpeak, ST_Slope and HeartDisease.\n",
    "\n",
    "These will need to be processed for linear regression."
   ]
  },
  {
   "cell_type": "code",
   "execution_count": 30,
   "id": "cef53cbd",
   "metadata": {},
   "outputs": [
    {
     "name": "stdout",
     "output_type": "stream",
     "text": [
      "0      0\n",
      "1      1\n",
      "2      0\n",
      "3      1\n",
      "4      0\n",
      "      ..\n",
      "913    1\n",
      "914    1\n",
      "915    1\n",
      "916    1\n",
      "917    0\n",
      "Name: HeartDisease, Length: 918, dtype: int64\n",
      "Shape: (918, 12)\n"
     ]
    },
    {
     "data": {
      "text/html": [
       "<div>\n",
       "<style scoped>\n",
       "    .dataframe tbody tr th:only-of-type {\n",
       "        vertical-align: middle;\n",
       "    }\n",
       "\n",
       "    .dataframe tbody tr th {\n",
       "        vertical-align: top;\n",
       "    }\n",
       "\n",
       "    .dataframe thead th {\n",
       "        text-align: right;\n",
       "    }\n",
       "</style>\n",
       "<table border=\"1\" class=\"dataframe\">\n",
       "  <thead>\n",
       "    <tr style=\"text-align: right;\">\n",
       "      <th></th>\n",
       "      <th>Age</th>\n",
       "      <th>RestingBP</th>\n",
       "      <th>Cholesterol</th>\n",
       "      <th>FastingBS</th>\n",
       "      <th>MaxHR</th>\n",
       "      <th>Oldpeak</th>\n",
       "      <th>HeartDisease</th>\n",
       "    </tr>\n",
       "  </thead>\n",
       "  <tbody>\n",
       "    <tr>\n",
       "      <th>count</th>\n",
       "      <td>918.000000</td>\n",
       "      <td>918.000000</td>\n",
       "      <td>918.000000</td>\n",
       "      <td>918.000000</td>\n",
       "      <td>918.000000</td>\n",
       "      <td>918.000000</td>\n",
       "      <td>918.000000</td>\n",
       "    </tr>\n",
       "    <tr>\n",
       "      <th>mean</th>\n",
       "      <td>53.510893</td>\n",
       "      <td>132.396514</td>\n",
       "      <td>198.799564</td>\n",
       "      <td>0.233115</td>\n",
       "      <td>136.809368</td>\n",
       "      <td>0.887364</td>\n",
       "      <td>0.553377</td>\n",
       "    </tr>\n",
       "    <tr>\n",
       "      <th>std</th>\n",
       "      <td>9.432617</td>\n",
       "      <td>18.514154</td>\n",
       "      <td>109.384145</td>\n",
       "      <td>0.423046</td>\n",
       "      <td>25.460334</td>\n",
       "      <td>1.066570</td>\n",
       "      <td>0.497414</td>\n",
       "    </tr>\n",
       "    <tr>\n",
       "      <th>min</th>\n",
       "      <td>28.000000</td>\n",
       "      <td>0.000000</td>\n",
       "      <td>0.000000</td>\n",
       "      <td>0.000000</td>\n",
       "      <td>60.000000</td>\n",
       "      <td>-2.600000</td>\n",
       "      <td>0.000000</td>\n",
       "    </tr>\n",
       "    <tr>\n",
       "      <th>25%</th>\n",
       "      <td>47.000000</td>\n",
       "      <td>120.000000</td>\n",
       "      <td>173.250000</td>\n",
       "      <td>0.000000</td>\n",
       "      <td>120.000000</td>\n",
       "      <td>0.000000</td>\n",
       "      <td>0.000000</td>\n",
       "    </tr>\n",
       "    <tr>\n",
       "      <th>50%</th>\n",
       "      <td>54.000000</td>\n",
       "      <td>130.000000</td>\n",
       "      <td>223.000000</td>\n",
       "      <td>0.000000</td>\n",
       "      <td>138.000000</td>\n",
       "      <td>0.600000</td>\n",
       "      <td>1.000000</td>\n",
       "    </tr>\n",
       "    <tr>\n",
       "      <th>75%</th>\n",
       "      <td>60.000000</td>\n",
       "      <td>140.000000</td>\n",
       "      <td>267.000000</td>\n",
       "      <td>0.000000</td>\n",
       "      <td>156.000000</td>\n",
       "      <td>1.500000</td>\n",
       "      <td>1.000000</td>\n",
       "    </tr>\n",
       "    <tr>\n",
       "      <th>max</th>\n",
       "      <td>77.000000</td>\n",
       "      <td>200.000000</td>\n",
       "      <td>603.000000</td>\n",
       "      <td>1.000000</td>\n",
       "      <td>202.000000</td>\n",
       "      <td>6.200000</td>\n",
       "      <td>1.000000</td>\n",
       "    </tr>\n",
       "  </tbody>\n",
       "</table>\n",
       "</div>"
      ],
      "text/plain": [
       "              Age   RestingBP  Cholesterol   FastingBS       MaxHR  \\\n",
       "count  918.000000  918.000000   918.000000  918.000000  918.000000   \n",
       "mean    53.510893  132.396514   198.799564    0.233115  136.809368   \n",
       "std      9.432617   18.514154   109.384145    0.423046   25.460334   \n",
       "min     28.000000    0.000000     0.000000    0.000000   60.000000   \n",
       "25%     47.000000  120.000000   173.250000    0.000000  120.000000   \n",
       "50%     54.000000  130.000000   223.000000    0.000000  138.000000   \n",
       "75%     60.000000  140.000000   267.000000    0.000000  156.000000   \n",
       "max     77.000000  200.000000   603.000000    1.000000  202.000000   \n",
       "\n",
       "          Oldpeak  HeartDisease  \n",
       "count  918.000000    918.000000  \n",
       "mean     0.887364      0.553377  \n",
       "std      1.066570      0.497414  \n",
       "min     -2.600000      0.000000  \n",
       "25%      0.000000      0.000000  \n",
       "50%      0.600000      1.000000  \n",
       "75%      1.500000      1.000000  \n",
       "max      6.200000      1.000000  "
      ]
     },
     "execution_count": 30,
     "metadata": {},
     "output_type": "execute_result"
    }
   ],
   "source": [
    "# Data Summary code\n",
    "df.head()\n",
    "# Selecting the first 2 rows df[0:2]\n",
    "print(df[\"HeartDisease\"])\n",
    "print(\"Shape:\",df.shape)\n",
    "df.describe()"
   ]
  },
  {
   "cell_type": "markdown",
   "id": "51bb20fd",
   "metadata": {},
   "source": [
    "## Data Summary Results\n",
    "\n",
    "### Dimension  \n",
    "### Peek  \n",
    "### Statistical summary  \n",
    "\n"
   ]
  },
  {
   "cell_type": "markdown",
   "id": "4f68f1bf",
   "metadata": {},
   "source": [
    "## Descriptive statistics \n",
    "### mean\n",
    "### distribution"
   ]
  },
  {
   "cell_type": "markdown",
   "id": "f6ae3e13",
   "metadata": {},
   "source": [
    "## Data visualizations \n",
    "\n",
    "### Univariate  \n",
    "### Multivariate plots"
   ]
  },
  {
   "cell_type": "code",
   "execution_count": 35,
   "id": "420a843b",
   "metadata": {},
   "outputs": [
    {
     "data": {
      "image/png": "[encoded data removed]",
      "text/plain": [
       "<Figure size 432x288 with 1 Axes>"
      ]
     },
     "metadata": {
      "needs_background": "light"
     },
     "output_type": "display_data"
    }
   ],
   "source": [
    "plt.hist(df[\"ChestPainType\"])\n",
    "df.dropna(inplace=True)\n",
    "plt.show()"
   ]
  },
  {
   "cell_type": "code",
   "execution_count": 40,
   "id": "807b4483",
   "metadata": {},
   "outputs": [
    {
     "data": {
      "image/png": "[encoded data removed]",
      "text/plain": [
       "<Figure size 432x288 with 1 Axes>"
      ]
     },
     "metadata": {
      "needs_background": "light"
     },
     "output_type": "display_data"
    }
   ],
   "source": [
    "plt.hist(df[\"Age\"])\n",
    "df.dropna(inplace=True)\n",
    "plt.show()"
   ]
  },
  {
   "cell_type": "code",
   "execution_count": 42,
   "id": "d95ed96b",
   "metadata": {},
   "outputs": [
    {
     "data": {
      "image/png": "[encoded data removed]",
      "text/plain": [
       "<Figure size 432x288 with 1 Axes>"
      ]
     },
     "metadata": {
      "needs_background": "light"
     },
     "output_type": "display_data"
    }
   ],
   "source": [
    "plt.hist(df[\"HeartDisease\"])\n",
    "df.dropna(inplace=True)\n",
    "plt.show()"
   ]
  },
  {
   "cell_type": "code",
   "execution_count": 43,
   "id": "ba61111c",
   "metadata": {},
   "outputs": [
    {
     "data": {
      "image/png": "[encoded data removed]",
      "text/plain": [
       "<Figure size 432x288 with 1 Axes>"
      ]
     },
     "metadata": {
      "needs_background": "light"
     },
     "output_type": "display_data"
    }
   ],
   "source": [
    "# Average of HD per quantile.\n",
    "# Age [1,2,3,4]\n",
    "\n",
    "rd = pd.DataFrame(np.random.randn(100, 10))\n",
    "\n",
    "# Calculate all the desired values\n",
    "df = pd.DataFrame({'mean': rd.mean(), 'median': rd.median(),\n",
    "                   '25%': rd.quantile(0.25), '50%': rd.quantile(0.5),\n",
    "                   '75%': rd.quantile(0.75)})\n",
    "# And plot it\n",
    "df.plot()\n",
    "\n",
    "# From https://stackoverflow.com/questions/18313322/plotting-quantiles-median-and-spread-using-scipy-and-matplotlib"
   ]
  },
  {
   "cell_type": "markdown",
   "id": "77e7624d",
   "metadata": {},
   "source": [
    "## Preprocessing"
   ]
  },
  {
   "cell_type": "markdown",
   "id": "f4bc7008",
   "metadata": {},
   "source": [
    "If it's a ranking, don't split.\n",
    "\n",
    "Changing M and F into 0 and 1  \n",
    "Change chest pain to ATA, NAP, ASY and TA  \n",
    "Changing resting ECG 3 categories Normal, ST and LVH.  \n",
    "Exercise Exercise Angina to 0 and 1  \n",
    "Change ST_Slope to 3 categories UP Down and Flat  "
   ]
  },
  {
   "cell_type": "code",
   "execution_count": 22,
   "id": "09da2ed2",
   "metadata": {},
   "outputs": [
    {
     "name": "stdout",
     "output_type": "stream",
     "text": [
      "              Age   RestingBP  Cholesterol   FastingBS       MaxHR  \\\n",
      "count  918.000000  918.000000   918.000000  918.000000  918.000000   \n",
      "mean    53.510893  132.396514   198.799564    0.233115  136.809368   \n",
      "std      9.432617   18.514154   109.384145    0.423046   25.460334   \n",
      "min     28.000000    0.000000     0.000000    0.000000   60.000000   \n",
      "25%     47.000000  120.000000   173.250000    0.000000  120.000000   \n",
      "50%     54.000000  130.000000   223.000000    0.000000  138.000000   \n",
      "75%     60.000000  140.000000   267.000000    0.000000  156.000000   \n",
      "max     77.000000  200.000000   603.000000    1.000000  202.000000   \n",
      "\n",
      "       ExerciseAngina     Oldpeak  HeartDisease        Male  ATAChestPain  \\\n",
      "count      918.000000  918.000000    918.000000  918.000000    918.000000   \n",
      "mean         0.404139    0.887364      0.553377    0.789760      0.188453   \n",
      "std          0.490992    1.066570      0.497414    0.407701      0.391287   \n",
      "min          0.000000   -2.600000      0.000000    0.000000      0.000000   \n",
      "25%          0.000000    0.000000      0.000000    1.000000      0.000000   \n",
      "50%          0.000000    0.600000      1.000000    1.000000      0.000000   \n",
      "75%          1.000000    1.500000      1.000000    1.000000      0.000000   \n",
      "max          1.000000    6.200000      1.000000    1.000000      1.000000   \n",
      "\n",
      "       NAPChestPain  TAChestPain       ECGST      ECGLVH   UPSTSlope  \\\n",
      "count    918.000000   918.000000  918.000000  918.000000  918.000000   \n",
      "mean       0.221133     0.050109    0.193900    0.204793    0.430283   \n",
      "std        0.415236     0.218289    0.395567    0.403770    0.495386   \n",
      "min        0.000000     0.000000    0.000000    0.000000    0.000000   \n",
      "25%        0.000000     0.000000    0.000000    0.000000    0.000000   \n",
      "50%        0.000000     0.000000    0.000000    0.000000    0.000000   \n",
      "75%        0.000000     0.000000    0.000000    0.000000    1.000000   \n",
      "max        1.000000     1.000000    1.000000    1.000000    1.000000   \n",
      "\n",
      "       DownSTSlope  \n",
      "count   918.000000  \n",
      "mean      0.068627  \n",
      "std       0.252957  \n",
      "min       0.000000  \n",
      "25%       0.000000  \n",
      "50%       0.000000  \n",
      "75%       0.000000  \n",
      "max       1.000000  \n"
     ]
    }
   ],
   "source": [
    "# Logistic regression\n",
    "df = pd.read_csv(\"heart_failure_dataset.csv\")\n",
    "\n",
    "#Remove missing values df.dropna(inplace=True)\n",
    "#print(n-df.shape[0], \"Observation(s) with NaNs deleted\")\n",
    "\n",
    "# Now 1 for male.\n",
    "df[\"Male\"]=np.where(df[\"Sex\"]==\"M\",1,0)\n",
    "\n",
    "# A-T-A-ChestPain, N-AP-ChestPain, ASY-ChestPain [REMOVED], TA-ChestPain. 000 = ASY.\n",
    "# df[\"ASYChestPain\"]=np.where(df[\"ChestPainType\"]==\"ASY\", 1,0)\n",
    "df[\"ATAChestPain\"]=np.where(df[\"ChestPainType\"]==\"ATA\", 1,0)\n",
    "df[\"NAPChestPain\"]=np.where(df[\"ChestPainType\"]==\"NAP\", 1,0)\n",
    "df[\"TAChestPain\"]=np.where(df[\"ChestPainType\"]==\"TA\", 1,0)\n",
    "\n",
    "# ECGNORM [REMOVED], ECGST, ECGLVH\n",
    "#df[\"ECGNORM\"]=np.where(df[\"RestingECG\"]==\"Normal\", 1,0)\n",
    "df[\"ECGST\"]=np.where(df[\"RestingECG\"]==\"ST\", 1,0)\n",
    "df[\"ECGLVH\"]=np.where(df[\"RestingECG\"]==\"LVH\", 1,0)\n",
    "\n",
    "df[\"ExerciseAngina\"]=np.where(df[\"ExerciseAngina\"]==\"Y\", 1,0)\n",
    "# FlatSTSlope [REMOVED], UPSTSlope, DownSTSlope\n",
    "# df[\"FlatSTSlope\"]=np.where(df[\"ST_Slope\"]==\"Flat\", 1,0)\n",
    "df[\"UPSTSlope\"]=np.where(df[\"ST_Slope\"]==\"Up\", 1,0)\n",
    "df[\"DownSTSlope\"]=np.where(df[\"ST_Slope\"]==\"Down\", 1,0)\n",
    "\n",
    "\n",
    "df[[\"Age\", \"Male\", \"ATAChestPain\", \"NAPChestPain\", \"TAChestPain\", \"RestingBP\", \"Cholesterol\", \"FastingBS\", \"ECGST\", \"ECGLVH\", \"MaxHR\", \"ExerciseAngina\", \"Oldpeak\", \"UPSTSlope\", \"DownSTSlope\", \"HeartDisease\"]].to_csv(\"with_dummy_processed_heart_failure_data.csv\", index=False)\n",
    "df.head()\n",
    "print(df.describe())"
   ]
  },
  {
   "cell_type": "markdown",
   "id": "bd1d5bc3",
   "metadata": {},
   "source": [
    "# 3. Visualisation"
   ]
  },
  {
   "cell_type": "markdown",
   "id": "fa9bc6db",
   "metadata": {},
   "source": [
    "# 4. Analysis \n",
    "(The rest can be breif but this one should be the main part)\n",
    "Analyse - What did you predict and how did you predict it\n",
    "\n",
    "\n",
    "\n",
    "\n",
    "### Predictions\n",
    "\n",
    "\n",
    "A brief an convenience report is the `classification_report()`. For each class and the total it displays the following metrics:\n",
    "* precision (How good your forecast was): true positives devided by the total positive predictions (first line of confusion matrix). $\\frac{true\\ positive}{true\\ positive+false\\ positive}$ E.g. share of correctly sick diagnosed people of the total sick diagnosed population.\n",
    "* recall (also sensitivity) (How many people should have you selected): true positivies devided by the total positive outcomes. $\\frac{true\\ positive}{true\\ positive+false\\ negative}$ E.g. the share of correctly sick diagnosed people of the total sick population. \n",
    "* f1-score (Average0: accuarcy measure that weights precision and recall: $F_1 = 2\\cdot \\frac{precision\\cdot recall}{precision + recall}$\n",
    "* support: How often each class occurs in the test set.\n"
   ]
  },
  {
   "cell_type": "code",
   "execution_count": 23,
   "id": "03eb9718",
   "metadata": {},
   "outputs": [
    {
     "name": "stdout",
     "output_type": "stream",
     "text": [
      "[[40.   1.   1.  ...  0.   1.   0. ]\n",
      " [49.   0.   0.  ...  1.   0.   0. ]\n",
      " [37.   1.   1.  ...  0.   1.   0. ]\n",
      " ...\n",
      " [57.   1.   0.  ...  1.2  0.   0. ]\n",
      " [57.   0.   1.  ...  0.   0.   0. ]\n",
      " [38.   1.   0.  ...  0.   1.   0. ]]\n",
      "[0. 1. 0. 1. 0. 0. 0. 0. 1. 0. 0. 1. 0. 1. 0. 0. 1. 0. 1. 1. 0. 0. 0. 1.\n",
      " 0. 0. 0. 0. 0. 0. 1. 0. 1. 1. 0. 0. 1. 0. 0. 0. 0. 1. 0. 0. 1. 0. 0. 0.\n",
      " 0. 1. 1. 1. 0. 0. 0. 0. 1. 1. 0. 1. 0. 0. 0. 1. 0. 0. 0. 0. 1. 0. 1. 0.\n",
      " 1. 0. 1. 0. 1. 0. 0. 1. 0. 0. 1. 0. 1. 1. 1. 0. 1. 0. 0. 0. 0. 1. 0. 1.\n",
      " 0. 0. 0. 0. 1. 0. 1. 1. 1. 0. 0. 0. 0. 0. 0. 1. 0. 0. 0. 1. 1. 1. 0. 1.\n",
      " 1. 0. 0. 1. 0. 0. 0. 0. 0. 0. 0. 1. 1. 1. 0. 1. 0. 0. 1. 1. 1. 1. 1. 0.\n",
      " 1. 0. 0. 0. 0. 1. 0. 0. 0. 0. 0. 1. 1. 0. 1. 0. 1. 1. 0. 0. 0. 1. 1. 0.\n",
      " 0. 0. 0. 0. 0. 0. 1. 1. 1. 0. 0. 0. 1. 0. 1. 0. 0. 1. 0. 1. 0. 1. 0. 0.\n",
      " 0. 0. 0. 0. 0. 0. 1. 0. 0. 0. 0. 0. 0. 0. 0. 1. 0. 1. 1. 1. 0. 0. 1. 0.\n",
      " 1. 0. 0. 0. 1. 1. 0. 0. 0. 1. 0. 1. 0. 0. 0. 0. 0. 0. 0. 0. 1. 1. 1. 1.\n",
      " 0. 1. 1. 0. 1. 0. 1. 1. 1. 1. 1. 1. 0. 0. 1. 0. 0. 0. 0. 0. 0. 0. 1. 1.\n",
      " 1. 0. 1. 0. 1. 0. 0. 0. 1. 0. 0. 0. 1. 1. 0. 0. 0. 1. 0. 0. 0. 0. 0. 0.\n",
      " 0. 0. 0. 0. 0. 1. 1. 1. 1. 1. 1. 1. 1. 0. 1. 1. 1. 1. 1. 0. 1. 1. 0. 1.\n",
      " 1. 1. 0. 1. 1. 1. 1. 1. 1. 1. 1. 1. 1. 1. 0. 1. 1. 1. 1. 1. 0. 1. 1. 1.\n",
      " 0. 1. 1. 1. 1. 1. 1. 1. 1. 1. 1. 1. 1. 1. 1. 1. 1. 1. 1. 1. 1. 1. 1. 1.\n",
      " 1. 1. 1. 1. 0. 1. 1. 1. 1. 1. 1. 1. 1. 1. 1. 1. 1. 1. 1. 1. 1. 1. 1. 1.\n",
      " 1. 1. 1. 1. 1. 1. 1. 1. 1. 1. 1. 1. 1. 1. 1. 1. 1. 1. 1. 1. 1. 1. 1. 1.\n",
      " 1. 1. 1. 1. 1. 1. 1. 1. 1. 0. 1. 1. 0. 0. 1. 0. 1. 1. 0. 1. 1. 1. 1. 0.\n",
      " 1. 1. 0. 0. 1. 1. 1. 0. 1. 1. 1. 1. 1. 1. 1. 1. 1. 1. 1. 1. 1. 0. 1. 0.\n",
      " 1. 1. 1. 0. 1. 1. 1. 0. 1. 0. 1. 0. 1. 0. 1. 1. 1. 1. 0. 1. 0. 1. 1. 1.\n",
      " 1. 1. 1. 1. 1. 1. 0. 1. 0. 1. 1. 1. 1. 1. 1. 1. 0. 1. 1. 1. 1. 1. 1. 0.\n",
      " 1. 1. 1. 0. 1. 1. 0. 1. 0. 1. 1. 0. 1. 1. 1. 1. 0. 1. 1. 1. 0. 0. 1. 0.\n",
      " 1. 1. 1. 1. 1. 1. 1. 1. 1. 1. 1. 0. 1. 1. 1. 1. 0. 0. 1. 1. 1. 0. 1. 0.\n",
      " 1. 1. 0. 1. 0. 1. 1. 1. 0. 0. 0. 1. 1. 1. 0. 1. 1. 1. 1. 1. 1. 1. 1. 1.\n",
      " 1. 1. 1. 1. 1. 1. 1. 0. 1. 1. 1. 0. 1. 1. 0. 0. 1. 1. 1. 1. 1. 0. 1. 1.\n",
      " 0. 1. 1. 1. 0. 0. 1. 1. 1. 1. 1. 0. 1. 0. 1. 1. 0. 1. 0. 0. 0. 1. 1. 1.\n",
      " 1. 0. 0. 0. 1. 0. 0. 1. 1. 0. 0. 1. 0. 0. 0. 0. 0. 0. 0. 1. 0. 1. 0. 0.\n",
      " 1. 1. 1. 1. 1. 0. 0. 1. 0. 0. 0. 1. 0. 1. 1. 1. 1. 1. 0. 0. 0. 0. 0. 1.\n",
      " 0. 1. 1. 0. 1. 0. 0. 0. 1. 0. 1. 0. 1. 1. 0. 0. 0. 0. 1. 0. 0. 0. 0. 1.\n",
      " 1. 1. 0. 0. 0. 0. 0. 0. 1. 0. 1. 1. 1. 1. 1. 0. 1. 0. 0. 0. 1. 0. 1. 1.\n",
      " 1. 0. 1. 1. 0. 1. 0. 1. 0. 0. 0. 1. 1. 0. 1. 1. 1. 1. 0. 0. 0. 1. 0. 0.\n",
      " 1. 1. 1. 0. 1. 0. 0. 0. 1. 0. 0. 1. 0. 1. 0. 1. 1. 1. 1. 1. 0. 0. 0. 0.\n",
      " 0. 0. 0. 1. 0. 0. 1. 1. 1. 0. 1. 0. 0. 0. 0. 0. 1. 0. 1. 1. 0. 0. 1. 1.\n",
      " 1. 1. 0. 0. 1. 1. 0. 0. 0. 1. 0. 0. 1. 0. 1. 0. 1. 0. 0. 0. 0. 0. 1. 0.\n",
      " 1. 1. 1. 1. 0. 0. 0. 1. 0. 1. 0. 0. 1. 0. 0. 0. 0. 0. 0. 1. 1. 0. 1. 0.\n",
      " 0. 1. 1. 0. 0. 1. 1. 0. 1. 0. 1. 0. 1. 0. 0. 1. 0. 0. 1. 0. 1. 1. 0. 1.\n",
      " 1. 1. 0. 1. 0. 0. 0. 0. 1. 1. 0. 0. 1. 1. 0. 1. 0. 0. 0. 0. 1. 0. 0. 1.\n",
      " 1. 1. 0. 0. 0. 1. 0. 1. 0. 1. 0. 1. 1. 1. 0. 0. 0. 1. 0. 1. 1. 1. 0. 1.\n",
      " 1. 1. 1. 1. 1. 0.]\n",
      "              precision    recall  f1-score   support\n",
      "\n",
      "         0.0       0.88      0.71      0.79       128\n",
      "         1.0       0.81      0.93      0.87       175\n",
      "\n",
      "    accuracy                           0.84       303\n",
      "   macro avg       0.85      0.82      0.83       303\n",
      "weighted avg       0.84      0.84      0.83       303\n",
      "\n",
      "Optimization terminated successfully.\n",
      "         Current function value: 0.323630\n",
      "         Iterations 7\n",
      "                           Logit Regression Results                           \n",
      "==============================================================================\n",
      "Dep. Variable:           HeartDisease   No. Observations:                  918\n",
      "Model:                          Logit   Df Residuals:                      902\n",
      "Method:                           MLE   Df Model:                           15\n",
      "Date:                Sun, 14 Nov 2021   Pseudo R-squ.:                  0.5292\n",
      "Time:                        17:41:19   Log-Likelihood:                -297.09\n",
      "converged:                       True   LL-Null:                       -631.07\n",
      "Covariance Type:            nonrobust   LLR p-value:                1.250e-132\n",
      "==================================================================================\n",
      "                     coef    std err          z      P>|z|      [0.025      0.975]\n",
      "----------------------------------------------------------------------------------\n",
      "const              0.1132      1.296      0.087      0.930      -2.427       2.653\n",
      "Age                0.0166      0.013      1.254      0.210      -0.009       0.042\n",
      "Male               1.4665      0.280      5.241      0.000       0.918       2.015\n",
      "ATAChestPain      -1.8303      0.326     -5.609      0.000      -2.470      -1.191\n",
      "NAPChestPain      -1.6857      0.266     -6.337      0.000      -2.207      -1.164\n",
      "TAChestPain       -1.4884      0.433     -3.441      0.001      -2.336      -0.641\n",
      "RestingBP          0.0042      0.006      0.698      0.485      -0.008       0.016\n",
      "Cholesterol       -0.0041      0.001     -3.785      0.000      -0.006      -0.002\n",
      "FastingBS          1.1365      0.275      4.133      0.000       0.597       1.675\n",
      "ECGST             -0.0915      0.294     -0.311      0.756      -0.668       0.485\n",
      "ECGLVH             0.1770      0.272      0.651      0.515      -0.356       0.710\n",
      "MaxHR             -0.0043      0.005     -0.854      0.393      -0.014       0.006\n",
      "ExerciseAngina     0.9003      0.245      3.682      0.000       0.421       1.380\n",
      "Oldpeak            0.3806      0.118      3.213      0.001       0.148       0.613\n",
      "UPSTSlope         -2.4480      0.247     -9.918      0.000      -2.932      -1.964\n",
      "DownSTSlope       -1.4539      0.429     -3.388      0.001      -2.295      -0.613\n",
      "==================================================================================\n"
     ]
    }
   ],
   "source": [
    "# Logistic regression\n",
    "\n",
    "df = pd.read_csv(\"with_dummy_processed_heart_failure_data.csv\")\n",
    "array = df.values\n",
    "\n",
    "X = array[:,0:-1]\n",
    "Y = array[:,-1]\n",
    "print(X) # All data without termination\n",
    "print(Y) # Termination\n",
    "\n",
    "test_size = 0.33\n",
    "seed = 0\n",
    "X_train, X_test, Y_train, Y_test = train_test_split(X, Y, test_size=test_size,\n",
    "random_state=seed)\n",
    "model = LogisticRegression(solver='liblinear')\n",
    "model.fit(X_train, Y_train)\n",
    "predicted_prob = model.predict_proba(X_test)\n",
    "predicted = np.where(predicted_prob[:,0] > 0.7,0,1)\n",
    "report = classification_report(Y_test, predicted)\n",
    "print(report)\n",
    "\n",
    "# This shows you the coef which relates to the B inputs and their relationship to the regression curve.\n",
    "# It should have the variables on the left so it might need a little fixing.\n",
    "# A negative shows that it has a negative corralation. Although it could be just random.\n",
    "# Stats model\n",
    "XCoef = df[df.columns[:-1]]\n",
    "YCoef = df[\"HeartDisease\"]\n",
    "X2Coef = sm.add_constant(XCoef)\n",
    "est = sm.Logit(YCoef, X2Coef)\n",
    "est2 = est.fit()\n",
    "print(est2.summary())"
   ]
  },
  {
   "cell_type": "markdown",
   "id": "70cb1b46",
   "metadata": {},
   "source": [
    "ASY meaning asyptomatic heart diese"
   ]
  },
  {
   "cell_type": "code",
   "execution_count": 17,
   "id": "0f2c53ab",
   "metadata": {},
   "outputs": [
    {
     "name": "stdout",
     "output_type": "stream",
     "text": [
      "0.7024964166268515\n"
     ]
    }
   ],
   "source": [
    "# KNN Classification\n",
    "df = pd.read_csv(\"processed_heart_failure_data.csv\")\n",
    "array = df.values\n",
    "X = array[:,0:-1]\n",
    "Y = array[:,-1]\n",
    "\n",
    "kfold = KFold(n_splits=10)\n",
    "model = KNeighborsClassifier()\n",
    "results = cross_val_score(model, X, Y, cv=kfold)\n",
    "print(results.mean())"
   ]
  },
  {
   "cell_type": "code",
   "execution_count": 18,
   "id": "490f8dad",
   "metadata": {},
   "outputs": [
    {
     "name": "stdout",
     "output_type": "stream",
     "text": [
      "0.769\n"
     ]
    }
   ],
   "source": [
    "# CART Classification - Cassification trees\n",
    "\n",
    "df = pd.read_csv(\"processed_heart_failure_data.csv\")\n",
    "array = df.values\n",
    "X = array[:,0:-1]\n",
    "Y = array[:,-1]\n",
    "\n",
    "kfold = KFold(n_splits=10)\n",
    "model = DecisionTreeClassifier()\n",
    "results = cross_val_score(model, X, Y, cv=kfold)\n",
    "print(round(results.mean(),3))"
   ]
  },
  {
   "cell_type": "markdown",
   "id": "58788d0e",
   "metadata": {},
   "source": [
    "Classification tree or knn is not very nelpful as there are not many positive resulst. "
   ]
  },
  {
   "cell_type": "code",
   "execution_count": 19,
   "id": "66733e55",
   "metadata": {},
   "outputs": [
    {
     "data": {
      "image/png": "[encoded data removed]",
      "text/plain": [
       "<Figure size 432x288 with 1 Axes>"
      ]
     },
     "metadata": {
      "needs_background": "light"
     },
     "output_type": "display_data"
    }
   ],
   "source": [
    "# Tree continuation\n",
    "col = df.columns\n",
    "X_train, X_test, Y_train, Y_test = sk.model_selection.train_test_split(X, Y, random_state=0)\n",
    "model = sk.tree.DecisionTreeClassifier(max_leaf_nodes=3, random_state=0)\n",
    "model.fit(X_train, Y_train)\n",
    "\n",
    "# Continued / terminated \n",
    "\n",
    "sk.tree.plot_tree(model, feature_names = col[:-1], class_names=[\"Heart disease\", \"no heart disease\"], filled=True)  \n",
    "plt.show()"
   ]
  },
  {
   "cell_type": "markdown",
   "id": "a5ebab3b",
   "metadata": {},
   "source": [
    "# 5. Results"
   ]
  },
  {
   "cell_type": "code",
   "execution_count": null,
   "id": "9a5fa914",
   "metadata": {},
   "outputs": [],
   "source": []
  }
 ],
 "metadata": {
  "kernelspec": {
   "display_name": "Python 3",
   "language": "python",
   "name": "python3"
  },
  "language_info": {
   "codemirror_mode": {
    "name": "ipython",
    "version": 3
   },
   "file_extension": ".py",
   "mimetype": "text/x-python",
   "name": "python",
   "nbconvert_exporter": "python",
   "pygments_lexer": "ipython3",
   "version": "3.8.8"
  }
 },
 "nbformat": 4,
 "nbformat_minor": 5
}
